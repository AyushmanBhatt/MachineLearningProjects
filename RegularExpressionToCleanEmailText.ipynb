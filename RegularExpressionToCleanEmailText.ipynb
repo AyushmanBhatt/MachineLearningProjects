{
  "nbformat": 4,
  "nbformat_minor": 0,
  "metadata": {
    "colab": {
      "provenance": [],
      "authorship_tag": "ABX9TyMSCTCsYFM25QFJQhqSo+i8",
      "include_colab_link": true
    },
    "kernelspec": {
      "name": "python3",
      "display_name": "Python 3"
    },
    "language_info": {
      "name": "python"
    }
  },
  "cells": [
    {
      "cell_type": "markdown",
      "metadata": {
        "id": "view-in-github",
        "colab_type": "text"
      },
      "source": [
        "<a href=\"https://colab.research.google.com/github/AyushmanBhatt/MachineLearningProjects/blob/main/RegularExpressionToCleanEmailText.ipynb\" target=\"_parent\"><img src=\"https://colab.research.google.com/assets/colab-badge.svg\" alt=\"Open In Colab\"/></a>"
      ]
    },
    {
      "cell_type": "code",
      "execution_count": 47,
      "metadata": {
        "id": "DfDUfzoAxCdK"
      },
      "outputs": [],
      "source": [
        "import re"
      ]
    },
    {
      "cell_type": "code",
      "source": [
        "file_contents = open(\"emailSample1.txt\",\"r\").read()"
      ],
      "metadata": {
        "id": "B_3ZKbC5xH38"
      },
      "execution_count": 48,
      "outputs": []
    },
    {
      "cell_type": "code",
      "source": [
        "file_contents"
      ],
      "metadata": {
        "colab": {
          "base_uri": "https://localhost:8080/",
          "height": 70
        },
        "id": "WGl7uh1Qxbkz",
        "outputId": "aa23975b-50de-4bc8-931e-945616823193"
      },
      "execution_count": 49,
      "outputs": [
        {
          "output_type": "execute_result",
          "data": {
            "text/plain": [
              "\"> Anyone knows how much it costs to host a web portal ?\\n>\\nWell, it depends on how many visitors you're expecting.\\nThis can be anywhere from less than 10 bucks a month to a couple of $100. \\nYou should checkout http://www.rackspace.com/ or perhaps Amazon EC2 \\nif youre running something big..\\n\\nTo unsubscribe yourself from this mailing list, send an email to:\\ngroupname-unsubscribe@egroups.com\\n\\n\""
            ],
            "application/vnd.google.colaboratory.intrinsic+json": {
              "type": "string"
            }
          },
          "metadata": {},
          "execution_count": 49
        }
      ]
    },
    {
      "cell_type": "markdown",
      "source": [
        "Converting all of the text to Lower Case:-"
      ],
      "metadata": {
        "id": "KWnEcWlyzdi1"
      }
    },
    {
      "cell_type": "code",
      "source": [
        "file_contents = file_contents.lower()\n",
        "file_contents"
      ],
      "metadata": {
        "colab": {
          "base_uri": "https://localhost:8080/",
          "height": 70
        },
        "id": "zGmXGXxzxd4b",
        "outputId": "df1ef3b4-71f2-4c3b-ea8b-b70df2418ff8"
      },
      "execution_count": 50,
      "outputs": [
        {
          "output_type": "execute_result",
          "data": {
            "text/plain": [
              "\"> anyone knows how much it costs to host a web portal ?\\n>\\nwell, it depends on how many visitors you're expecting.\\nthis can be anywhere from less than 10 bucks a month to a couple of $100. \\nyou should checkout http://www.rackspace.com/ or perhaps amazon ec2 \\nif youre running something big..\\n\\nto unsubscribe yourself from this mailing list, send an email to:\\ngroupname-unsubscribe@egroups.com\\n\\n\""
            ],
            "application/vnd.google.colaboratory.intrinsic+json": {
              "type": "string"
            }
          },
          "metadata": {},
          "execution_count": 50
        }
      ]
    },
    {
      "cell_type": "markdown",
      "source": [
        "Handling Numbers in the text:-"
      ],
      "metadata": {
        "id": "OfQBkmV7zWg7"
      }
    },
    {
      "cell_type": "code",
      "source": [
        "re.findall(\"[\\d]+\",file_contents)"
      ],
      "metadata": {
        "colab": {
          "base_uri": "https://localhost:8080/"
        },
        "id": "NLrgcgUQxflC",
        "outputId": "1b0e099b-b1a7-4576-b010-613a04a5152e"
      },
      "execution_count": 51,
      "outputs": [
        {
          "output_type": "execute_result",
          "data": {
            "text/plain": [
              "['10', '100', '2']"
            ]
          },
          "metadata": {},
          "execution_count": 51
        }
      ]
    },
    {
      "cell_type": "code",
      "source": [
        "file_contents = re.sub(\"[\\d]+\",\"number\",file_contents)\n",
        "file_contents"
      ],
      "metadata": {
        "colab": {
          "base_uri": "https://localhost:8080/",
          "height": 70
        },
        "id": "xdiFW-wUxg8q",
        "outputId": "dbc45e75-0205-4801-8165-d6e647794b1f"
      },
      "execution_count": 52,
      "outputs": [
        {
          "output_type": "execute_result",
          "data": {
            "text/plain": [
              "\"> anyone knows how much it costs to host a web portal ?\\n>\\nwell, it depends on how many visitors you're expecting.\\nthis can be anywhere from less than number bucks a month to a couple of $number. \\nyou should checkout http://www.rackspace.com/ or perhaps amazon ecnumber \\nif youre running something big..\\n\\nto unsubscribe yourself from this mailing list, send an email to:\\ngroupname-unsubscribe@egroups.com\\n\\n\""
            ],
            "application/vnd.google.colaboratory.intrinsic+json": {
              "type": "string"
            }
          },
          "metadata": {},
          "execution_count": 52
        }
      ]
    },
    {
      "cell_type": "markdown",
      "source": [
        "Handling URLs in the text:-"
      ],
      "metadata": {
        "id": "K02MZAPqzRyU"
      }
    },
    {
      "cell_type": "code",
      "source": [
        "dt = 'I refer to https://google.com and I never refer http://www.baidu.com if I have to search anything'"
      ],
      "metadata": {
        "id": "tzvFih5_xiO7"
      },
      "execution_count": 53,
      "outputs": []
    },
    {
      "cell_type": "code",
      "source": [
        "re.findall(\"https?://[^\\s]+\",dt)"
      ],
      "metadata": {
        "colab": {
          "base_uri": "https://localhost:8080/"
        },
        "id": "vq-WJbwXxje6",
        "outputId": "2548723f-65ba-4e1e-92e4-0ce26fc608b7"
      },
      "execution_count": 54,
      "outputs": [
        {
          "output_type": "execute_result",
          "data": {
            "text/plain": [
              "['https://google.com', 'http://www.baidu.com']"
            ]
          },
          "metadata": {},
          "execution_count": 54
        }
      ]
    },
    {
      "cell_type": "code",
      "source": [
        "re.findall(\"https?://[^\\s]+\",file_contents)"
      ],
      "metadata": {
        "colab": {
          "base_uri": "https://localhost:8080/"
        },
        "id": "9GP1GYMMxkoD",
        "outputId": "90e5031e-b32c-41f1-b18a-0cb747177ce3"
      },
      "execution_count": 55,
      "outputs": [
        {
          "output_type": "execute_result",
          "data": {
            "text/plain": [
              "['http://www.rackspace.com/']"
            ]
          },
          "metadata": {},
          "execution_count": 55
        }
      ]
    },
    {
      "cell_type": "code",
      "source": [
        "file_contents = re.sub(\"https?://[^\\s]+\",\"httpaddr\",file_contents)\n",
        "file_contents"
      ],
      "metadata": {
        "colab": {
          "base_uri": "https://localhost:8080/",
          "height": 70
        },
        "id": "n3oUvS1oxl5D",
        "outputId": "3f63497c-e25d-47e3-f065-53aa36882385"
      },
      "execution_count": 56,
      "outputs": [
        {
          "output_type": "execute_result",
          "data": {
            "text/plain": [
              "\"> anyone knows how much it costs to host a web portal ?\\n>\\nwell, it depends on how many visitors you're expecting.\\nthis can be anywhere from less than number bucks a month to a couple of $number. \\nyou should checkout httpaddr or perhaps amazon ecnumber \\nif youre running something big..\\n\\nto unsubscribe yourself from this mailing list, send an email to:\\ngroupname-unsubscribe@egroups.com\\n\\n\""
            ],
            "application/vnd.google.colaboratory.intrinsic+json": {
              "type": "string"
            }
          },
          "metadata": {},
          "execution_count": 56
        }
      ]
    },
    {
      "cell_type": "markdown",
      "source": [
        "Handling Email Address in the text:-"
      ],
      "metadata": {
        "id": "w-o-0NlTzI-z"
      }
    },
    {
      "cell_type": "code",
      "source": [
        "re.findall(\"[^\\s]+@[^\\s]+\",file_contents)"
      ],
      "metadata": {
        "colab": {
          "base_uri": "https://localhost:8080/"
        },
        "id": "N_FPXR7GxoJT",
        "outputId": "da5d0dc6-8b25-44a3-96a3-8c6dd3bce9c7"
      },
      "execution_count": 57,
      "outputs": [
        {
          "output_type": "execute_result",
          "data": {
            "text/plain": [
              "['groupname-unsubscribe@egroups.com']"
            ]
          },
          "metadata": {},
          "execution_count": 57
        }
      ]
    },
    {
      "cell_type": "code",
      "source": [
        "file_contents = re.sub(\"[^\\s]+@[^\\s]+\",\"emailaddr\",file_contents)\n",
        "file_contents"
      ],
      "metadata": {
        "colab": {
          "base_uri": "https://localhost:8080/",
          "height": 53
        },
        "id": "9SzCHRxLxpTi",
        "outputId": "fe43a480-da43-48a3-f70f-aa29781ee58b"
      },
      "execution_count": 58,
      "outputs": [
        {
          "output_type": "execute_result",
          "data": {
            "text/plain": [
              "\"> anyone knows how much it costs to host a web portal ?\\n>\\nwell, it depends on how many visitors you're expecting.\\nthis can be anywhere from less than number bucks a month to a couple of $number. \\nyou should checkout httpaddr or perhaps amazon ecnumber \\nif youre running something big..\\n\\nto unsubscribe yourself from this mailing list, send an email to:\\nemailaddr\\n\\n\""
            ],
            "application/vnd.google.colaboratory.intrinsic+json": {
              "type": "string"
            }
          },
          "metadata": {},
          "execution_count": 58
        }
      ]
    },
    {
      "cell_type": "markdown",
      "source": [
        "Handling all the special characters in the text:-"
      ],
      "metadata": {
        "id": "EzwYvuSCy_Sk"
      }
    },
    {
      "cell_type": "code",
      "source": [
        "re.findall(\"[^A-Za-z0-9\\s]+\",file_contents)"
      ],
      "metadata": {
        "colab": {
          "base_uri": "https://localhost:8080/"
        },
        "id": "kZTYRkZXxqnU",
        "outputId": "8af52653-9e77-4d58-bc2a-5fe7d62108a1"
      },
      "execution_count": 59,
      "outputs": [
        {
          "output_type": "execute_result",
          "data": {
            "text/plain": [
              "['>', '?', '>', ',', \"'\", '.', '$', '.', '..', ',', ':']"
            ]
          },
          "metadata": {},
          "execution_count": 59
        }
      ]
    },
    {
      "cell_type": "code",
      "source": [
        "file_contents = re.sub(\"[^A-Za-z0-9\\s]+\",\"\",file_contents)\n",
        "file_contents"
      ],
      "metadata": {
        "colab": {
          "base_uri": "https://localhost:8080/",
          "height": 53
        },
        "id": "hFcd5DA6xsEq",
        "outputId": "d8fc272c-561f-4b8c-e44d-18cc9f666f17"
      },
      "execution_count": 60,
      "outputs": [
        {
          "output_type": "execute_result",
          "data": {
            "text/plain": [
              "' anyone knows how much it costs to host a web portal \\n\\nwell it depends on how many visitors youre expecting\\nthis can be anywhere from less than number bucks a month to a couple of number \\nyou should checkout httpaddr or perhaps amazon ecnumber \\nif youre running something big\\n\\nto unsubscribe yourself from this mailing list send an email to\\nemailaddr\\n\\n'"
            ],
            "application/vnd.google.colaboratory.intrinsic+json": {
              "type": "string"
            }
          },
          "metadata": {},
          "execution_count": 60
        }
      ]
    },
    {
      "cell_type": "markdown",
      "source": [
        "Removing \\n from text:-"
      ],
      "metadata": {
        "id": "ZcllgUTJy0wW"
      }
    },
    {
      "cell_type": "code",
      "source": [
        "re.findall(\"\\n{2,2}\",file_contents)\n",
        "file_contents = re.sub(\"\\n{2,2}\",\"\",file_contents)\n",
        "file_contents"
      ],
      "metadata": {
        "colab": {
          "base_uri": "https://localhost:8080/",
          "height": 53
        },
        "id": "VNp9iecJxtLj",
        "outputId": "ae855667-2664-4a12-e6cd-9709ed1bc391"
      },
      "execution_count": 61,
      "outputs": [
        {
          "output_type": "execute_result",
          "data": {
            "text/plain": [
              "' anyone knows how much it costs to host a web portal well it depends on how many visitors youre expecting\\nthis can be anywhere from less than number bucks a month to a couple of number \\nyou should checkout httpaddr or perhaps amazon ecnumber \\nif youre running something bigto unsubscribe yourself from this mailing list send an email to\\nemailaddr'"
            ],
            "application/vnd.google.colaboratory.intrinsic+json": {
              "type": "string"
            }
          },
          "metadata": {},
          "execution_count": 61
        }
      ]
    },
    {
      "cell_type": "code",
      "source": [
        "re.findall(\"\\s\\n\",file_contents)\n",
        "file_contents = re.sub(\"\\s\\n\",\" \",file_contents)\n",
        "file_contents"
      ],
      "metadata": {
        "colab": {
          "base_uri": "https://localhost:8080/",
          "height": 53
        },
        "id": "ofN1Cq3pxvxS",
        "outputId": "8b8d5aa0-a509-4cf5-c4d6-f7cd2c8ae2d5"
      },
      "execution_count": 62,
      "outputs": [
        {
          "output_type": "execute_result",
          "data": {
            "text/plain": [
              "' anyone knows how much it costs to host a web portal well it depends on how many visitors youre expecting\\nthis can be anywhere from less than number bucks a month to a couple of number you should checkout httpaddr or perhaps amazon ecnumber if youre running something bigto unsubscribe yourself from this mailing list send an email to\\nemailaddr'"
            ],
            "application/vnd.google.colaboratory.intrinsic+json": {
              "type": "string"
            }
          },
          "metadata": {},
          "execution_count": 62
        }
      ]
    },
    {
      "cell_type": "code",
      "source": [
        "file_contents = re.sub(\"\\n\",\" \",file_contents)\n",
        "file_contents"
      ],
      "metadata": {
        "colab": {
          "base_uri": "https://localhost:8080/",
          "height": 53
        },
        "id": "wbsTtiBixxH7",
        "outputId": "9986c720-bf2a-4e7d-fce0-c54f77b0bb81"
      },
      "execution_count": 63,
      "outputs": [
        {
          "output_type": "execute_result",
          "data": {
            "text/plain": [
              "' anyone knows how much it costs to host a web portal well it depends on how many visitors youre expecting this can be anywhere from less than number bucks a month to a couple of number you should checkout httpaddr or perhaps amazon ecnumber if youre running something bigto unsubscribe yourself from this mailing list send an email to emailaddr'"
            ],
            "application/vnd.google.colaboratory.intrinsic+json": {
              "type": "string"
            }
          },
          "metadata": {},
          "execution_count": 63
        }
      ]
    },
    {
      "cell_type": "markdown",
      "source": [
        "Removing text starting with space:-"
      ],
      "metadata": {
        "id": "5BwBJUmbyfyj"
      }
    },
    {
      "cell_type": "code",
      "source": [
        "re.findall(\"^\\s\",file_contents)"
      ],
      "metadata": {
        "colab": {
          "base_uri": "https://localhost:8080/"
        },
        "id": "u2pBebYHxyV7",
        "outputId": "2a212614-3f72-4805-b6d6-eab9ff7697a6"
      },
      "execution_count": 64,
      "outputs": [
        {
          "output_type": "execute_result",
          "data": {
            "text/plain": [
              "[' ']"
            ]
          },
          "metadata": {},
          "execution_count": 64
        }
      ]
    },
    {
      "cell_type": "code",
      "source": [
        "file_contents = re.sub(\"^\\s\",\"\",file_contents)"
      ],
      "metadata": {
        "id": "WUZHPs9pxz-j"
      },
      "execution_count": 65,
      "outputs": []
    },
    {
      "cell_type": "code",
      "source": [
        "dt = 'ABC'\n",
        "\n",
        "re.findall(\"[^A]\",dt) "
      ],
      "metadata": {
        "colab": {
          "base_uri": "https://localhost:8080/"
        },
        "id": "AhdAV63nx1Ha",
        "outputId": "18314a54-d30e-4389-94b0-9895ecdb619a"
      },
      "execution_count": 66,
      "outputs": [
        {
          "output_type": "execute_result",
          "data": {
            "text/plain": [
              "['B', 'C']"
            ]
          },
          "metadata": {},
          "execution_count": 66
        }
      ]
    },
    {
      "cell_type": "code",
      "source": [
        "re.findall(\"^A\",dt) ## the text should start with A"
      ],
      "metadata": {
        "colab": {
          "base_uri": "https://localhost:8080/"
        },
        "id": "MS1rYRNcx2Zc",
        "outputId": "ea903387-cb83-4f9f-dbe0-edb1d8c1cf9f"
      },
      "execution_count": 67,
      "outputs": [
        {
          "output_type": "execute_result",
          "data": {
            "text/plain": [
              "['A']"
            ]
          },
          "metadata": {},
          "execution_count": 67
        }
      ]
    },
    {
      "cell_type": "markdown",
      "source": [
        "Cleaned Email Text:-"
      ],
      "metadata": {
        "id": "UuRBuWuWyVUF"
      }
    },
    {
      "cell_type": "code",
      "source": [
        "file_contents"
      ],
      "metadata": {
        "colab": {
          "base_uri": "https://localhost:8080/",
          "height": 53
        },
        "id": "3aUfnezoyCoj",
        "outputId": "867ce3e3-f3a2-48ae-f2e2-6c84d91d9a22"
      },
      "execution_count": 68,
      "outputs": [
        {
          "output_type": "execute_result",
          "data": {
            "text/plain": [
              "'anyone knows how much it costs to host a web portal well it depends on how many visitors youre expecting this can be anywhere from less than number bucks a month to a couple of number you should checkout httpaddr or perhaps amazon ecnumber if youre running something bigto unsubscribe yourself from this mailing list send an email to emailaddr'"
            ],
            "application/vnd.google.colaboratory.intrinsic+json": {
              "type": "string"
            }
          },
          "metadata": {},
          "execution_count": 68
        }
      ]
    }
  ]
}