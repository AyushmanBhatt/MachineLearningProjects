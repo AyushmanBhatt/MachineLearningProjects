{
  "nbformat": 4,
  "nbformat_minor": 0,
  "metadata": {
    "colab": {
      "provenance": [],
      "authorship_tag": "ABX9TyMSCTCsYFM25QFJQhqSo+i8",
      "include_colab_link": true
    },
    "kernelspec": {
      "name": "python3",
      "display_name": "Python 3"
    },
    "language_info": {
      "name": "python"
    }
  },
  "cells": [
    {
      "cell_type": "markdown",
      "metadata": {
        "id": "view-in-github",
        "colab_type": "text"
      },
      "source": [
        "<a href=\"https://colab.research.google.com/github/AyushmanBhatt/MachineLearningProjects/blob/main/RegularExpressionToCleanEmailText.ipynb\" target=\"_parent\"><img src=\"https://colab.research.google.com/assets/colab-badge.svg\" alt=\"Open In Colab\"/></a>"
      ]
    },
    {
      "cell_type": "code",
      "execution_count": 25,
      "metadata": {
        "id": "DfDUfzoAxCdK"
      },
      "outputs": [],
      "source": [
        "import re"
      ]
    },
    {
      "cell_type": "code",
      "source": [
        "file_contents = open(\"emailSample1.txt\",\"r\").read()"
      ],
      "metadata": {
        "id": "B_3ZKbC5xH38"
      },
      "execution_count": 26,
      "outputs": []
    },
    {
      "cell_type": "code",
      "source": [
        "file_contents"
      ],
      "metadata": {
        "colab": {
          "base_uri": "https://localhost:8080/",
          "height": 70
        },
        "id": "WGl7uh1Qxbkz",
        "outputId": "a92ca053-97b0-4cb3-d2d4-9f941f62360a"
      },
      "execution_count": 27,
      "outputs": [
        {
          "output_type": "execute_result",
          "data": {
            "text/plain": [
              "\"> Anyone knows how much it costs to host a web portal ?\\n>\\nWell, it depends on how many visitors you're expecting.\\nThis can be anywhere from less than 10 bucks a month to a couple of $100. \\nYou should checkout http://www.rackspace.com/ or perhaps Amazon EC2 \\nif youre running something big..\\n\\nTo unsubscribe yourself from this mailing list, send an email to:\\ngroupname-unsubscribe@egroups.com\\n\\n\""
            ],
            "application/vnd.google.colaboratory.intrinsic+json": {
              "type": "string"
            }
          },
          "metadata": {},
          "execution_count": 27
        }
      ]
    },
    {
      "cell_type": "markdown",
      "source": [
        "Converting all of the text to Lower Case:-"
      ],
      "metadata": {
        "id": "KWnEcWlyzdi1"
      }
    },
    {
      "cell_type": "code",
      "source": [
        "file_contents = file_contents.lower()\n",
        "file_contents"
      ],
      "metadata": {
        "colab": {
          "base_uri": "https://localhost:8080/",
          "height": 70
        },
        "id": "zGmXGXxzxd4b",
        "outputId": "9c28ce52-6f51-4d21-bbda-aac1bfe5decf"
      },
      "execution_count": 28,
      "outputs": [
        {
          "output_type": "execute_result",
          "data": {
            "text/plain": [
              "\"> anyone knows how much it costs to host a web portal ?\\n>\\nwell, it depends on how many visitors you're expecting.\\nthis can be anywhere from less than 10 bucks a month to a couple of $100. \\nyou should checkout http://www.rackspace.com/ or perhaps amazon ec2 \\nif youre running something big..\\n\\nto unsubscribe yourself from this mailing list, send an email to:\\ngroupname-unsubscribe@egroups.com\\n\\n\""
            ],
            "application/vnd.google.colaboratory.intrinsic+json": {
              "type": "string"
            }
          },
          "metadata": {},
          "execution_count": 28
        }
      ]
    },
    {
      "cell_type": "markdown",
      "source": [
        "Handling Numbers in the text:-"
      ],
      "metadata": {
        "id": "OfQBkmV7zWg7"
      }
    },
    {
      "cell_type": "code",
      "source": [
        "re.findall(\"[\\d]+\",file_contents)"
      ],
      "metadata": {
        "colab": {
          "base_uri": "https://localhost:8080/"
        },
        "id": "NLrgcgUQxflC",
        "outputId": "febce715-93fb-4ef0-a104-f3b52ab7dca2"
      },
      "execution_count": 29,
      "outputs": [
        {
          "output_type": "execute_result",
          "data": {
            "text/plain": [
              "['10', '100', '2']"
            ]
          },
          "metadata": {},
          "execution_count": 29
        }
      ]
    },
    {
      "cell_type": "code",
      "source": [
        "file_contents = re.sub(\"[\\d]+\",\"number\",file_contents)\n",
        "file_contents"
      ],
      "metadata": {
        "colab": {
          "base_uri": "https://localhost:8080/",
          "height": 70
        },
        "id": "xdiFW-wUxg8q",
        "outputId": "4720339d-7d82-4c63-f3f0-cfe6cf792711"
      },
      "execution_count": 30,
      "outputs": [
        {
          "output_type": "execute_result",
          "data": {
            "text/plain": [
              "\"> anyone knows how much it costs to host a web portal ?\\n>\\nwell, it depends on how many visitors you're expecting.\\nthis can be anywhere from less than number bucks a month to a couple of $number. \\nyou should checkout http://www.rackspace.com/ or perhaps amazon ecnumber \\nif youre running something big..\\n\\nto unsubscribe yourself from this mailing list, send an email to:\\ngroupname-unsubscribe@egroups.com\\n\\n\""
            ],
            "application/vnd.google.colaboratory.intrinsic+json": {
              "type": "string"
            }
          },
          "metadata": {},
          "execution_count": 30
        }
      ]
    },
    {
      "cell_type": "markdown",
      "source": [
        "Handling URLs in the text:-"
      ],
      "metadata": {
        "id": "K02MZAPqzRyU"
      }
    },
    {
      "cell_type": "code",
      "source": [
        "dt = 'I refer to https://google.com and I never refer http://www.baidu.com if I have to search anything'"
      ],
      "metadata": {
        "id": "tzvFih5_xiO7"
      },
      "execution_count": 31,
      "outputs": []
    },
    {
      "cell_type": "code",
      "source": [
        "re.findall(\"https?://[^\\s]+\",dt)"
      ],
      "metadata": {
        "colab": {
          "base_uri": "https://localhost:8080/"
        },
        "id": "vq-WJbwXxje6",
        "outputId": "01d2a96e-0f75-40a3-a9c1-03504ecbf616"
      },
      "execution_count": 32,
      "outputs": [
        {
          "output_type": "execute_result",
          "data": {
            "text/plain": [
              "['https://google.com', 'http://www.baidu.com']"
            ]
          },
          "metadata": {},
          "execution_count": 32
        }
      ]
    },
    {
      "cell_type": "code",
      "source": [
        "re.findall(\"https?://[^\\s]+\",file_contents)"
      ],
      "metadata": {
        "colab": {
          "base_uri": "https://localhost:8080/"
        },
        "id": "9GP1GYMMxkoD",
        "outputId": "e82d7fa9-00e6-4208-9f6b-fefdfb16f734"
      },
      "execution_count": 33,
      "outputs": [
        {
          "output_type": "execute_result",
          "data": {
            "text/plain": [
              "['http://www.rackspace.com/']"
            ]
          },
          "metadata": {},
          "execution_count": 33
        }
      ]
    },
    {
      "cell_type": "code",
      "source": [
        "file_contents = re.sub(\"https?://[^\\s]+\",\"httpaddr\",file_contents)\n",
        "file_contents"
      ],
      "metadata": {
        "colab": {
          "base_uri": "https://localhost:8080/",
          "height": 70
        },
        "id": "n3oUvS1oxl5D",
        "outputId": "caff43ad-09e1-4f5e-9282-af4894f96c5d"
      },
      "execution_count": 34,
      "outputs": [
        {
          "output_type": "execute_result",
          "data": {
            "text/plain": [
              "\"> anyone knows how much it costs to host a web portal ?\\n>\\nwell, it depends on how many visitors you're expecting.\\nthis can be anywhere from less than number bucks a month to a couple of $number. \\nyou should checkout httpaddr or perhaps amazon ecnumber \\nif youre running something big..\\n\\nto unsubscribe yourself from this mailing list, send an email to:\\ngroupname-unsubscribe@egroups.com\\n\\n\""
            ],
            "application/vnd.google.colaboratory.intrinsic+json": {
              "type": "string"
            }
          },
          "metadata": {},
          "execution_count": 34
        }
      ]
    },
    {
      "cell_type": "markdown",
      "source": [
        "Handling Email Address in the text:-"
      ],
      "metadata": {
        "id": "w-o-0NlTzI-z"
      }
    },
    {
      "cell_type": "code",
      "source": [
        "re.findall(\"[^\\s]+@[^\\s]+\",file_contents)"
      ],
      "metadata": {
        "colab": {
          "base_uri": "https://localhost:8080/"
        },
        "id": "N_FPXR7GxoJT",
        "outputId": "9113d59c-69d1-4c4c-fe4f-3f6b1f72cabe"
      },
      "execution_count": 35,
      "outputs": [
        {
          "output_type": "execute_result",
          "data": {
            "text/plain": [
              "['groupname-unsubscribe@egroups.com']"
            ]
          },
          "metadata": {},
          "execution_count": 35
        }
      ]
    },
    {
      "cell_type": "code",
      "source": [
        "file_contents = re.sub(\"[^\\s]+@[^\\s]+\",\"emailaddr\",file_contents)\n",
        "file_contents"
      ],
      "metadata": {
        "colab": {
          "base_uri": "https://localhost:8080/",
          "height": 53
        },
        "id": "9SzCHRxLxpTi",
        "outputId": "b126dc6b-e966-4888-facd-1ba26de1008a"
      },
      "execution_count": 36,
      "outputs": [
        {
          "output_type": "execute_result",
          "data": {
            "text/plain": [
              "\"> anyone knows how much it costs to host a web portal ?\\n>\\nwell, it depends on how many visitors you're expecting.\\nthis can be anywhere from less than number bucks a month to a couple of $number. \\nyou should checkout httpaddr or perhaps amazon ecnumber \\nif youre running something big..\\n\\nto unsubscribe yourself from this mailing list, send an email to:\\nemailaddr\\n\\n\""
            ],
            "application/vnd.google.colaboratory.intrinsic+json": {
              "type": "string"
            }
          },
          "metadata": {},
          "execution_count": 36
        }
      ]
    },
    {
      "cell_type": "markdown",
      "source": [
        "Handling all the special characters in the text:-"
      ],
      "metadata": {
        "id": "EzwYvuSCy_Sk"
      }
    },
    {
      "cell_type": "code",
      "source": [
        "re.findall(\"[^A-Za-z0-9\\s]+\",file_contents)"
      ],
      "metadata": {
        "colab": {
          "base_uri": "https://localhost:8080/"
        },
        "id": "kZTYRkZXxqnU",
        "outputId": "30f7490d-2bcc-423a-be07-ed79ff251547"
      },
      "execution_count": 37,
      "outputs": [
        {
          "output_type": "execute_result",
          "data": {
            "text/plain": [
              "['>', '?', '>', ',', \"'\", '.', '$', '.', '..', ',', ':']"
            ]
          },
          "metadata": {},
          "execution_count": 37
        }
      ]
    },
    {
      "cell_type": "code",
      "source": [
        "file_contents = re.sub(\"[^A-Za-z0-9\\s]+\",\"\",file_contents)\n",
        "file_contents"
      ],
      "metadata": {
        "colab": {
          "base_uri": "https://localhost:8080/",
          "height": 53
        },
        "id": "hFcd5DA6xsEq",
        "outputId": "4653aa02-5966-4b08-f7fe-c0e6d9190a99"
      },
      "execution_count": 38,
      "outputs": [
        {
          "output_type": "execute_result",
          "data": {
            "text/plain": [
              "' anyone knows how much it costs to host a web portal \\n\\nwell it depends on how many visitors youre expecting\\nthis can be anywhere from less than number bucks a month to a couple of number \\nyou should checkout httpaddr or perhaps amazon ecnumber \\nif youre running something big\\n\\nto unsubscribe yourself from this mailing list send an email to\\nemailaddr\\n\\n'"
            ],
            "application/vnd.google.colaboratory.intrinsic+json": {
              "type": "string"
            }
          },
          "metadata": {},
          "execution_count": 38
        }
      ]
    },
    {
      "cell_type": "markdown",
      "source": [
        "Removing \\n from text:-"
      ],
      "metadata": {
        "id": "ZcllgUTJy0wW"
      }
    },
    {
      "cell_type": "code",
      "source": [
        "re.findall(\"\\n{2,2}\",file_contents)\n",
        "file_contents = re.sub(\"\\n{2,2}\",\"\",file_contents)\n",
        "file_contents"
      ],
      "metadata": {
        "colab": {
          "base_uri": "https://localhost:8080/",
          "height": 53
        },
        "id": "VNp9iecJxtLj",
        "outputId": "5b8580e4-6071-465c-ceb6-1d7db6496043"
      },
      "execution_count": 39,
      "outputs": [
        {
          "output_type": "execute_result",
          "data": {
            "text/plain": [
              "' anyone knows how much it costs to host a web portal well it depends on how many visitors youre expecting\\nthis can be anywhere from less than number bucks a month to a couple of number \\nyou should checkout httpaddr or perhaps amazon ecnumber \\nif youre running something bigto unsubscribe yourself from this mailing list send an email to\\nemailaddr'"
            ],
            "application/vnd.google.colaboratory.intrinsic+json": {
              "type": "string"
            }
          },
          "metadata": {},
          "execution_count": 39
        }
      ]
    },
    {
      "cell_type": "code",
      "source": [
        "re.findall(\"\\s\\n\",file_contents)\n",
        "file_contents = re.sub(\"\\s\\n\",\" \",file_contents)\n",
        "file_contents"
      ],
      "metadata": {
        "colab": {
          "base_uri": "https://localhost:8080/",
          "height": 53
        },
        "id": "ofN1Cq3pxvxS",
        "outputId": "ccfb8f1c-8a42-4f08-979b-9f51af3e508f"
      },
      "execution_count": 40,
      "outputs": [
        {
          "output_type": "execute_result",
          "data": {
            "text/plain": [
              "' anyone knows how much it costs to host a web portal well it depends on how many visitors youre expecting\\nthis can be anywhere from less than number bucks a month to a couple of number you should checkout httpaddr or perhaps amazon ecnumber if youre running something bigto unsubscribe yourself from this mailing list send an email to\\nemailaddr'"
            ],
            "application/vnd.google.colaboratory.intrinsic+json": {
              "type": "string"
            }
          },
          "metadata": {},
          "execution_count": 40
        }
      ]
    },
    {
      "cell_type": "code",
      "source": [
        "file_contents = re.sub(\"\\n\",\" \",file_contents)\n",
        "file_contents"
      ],
      "metadata": {
        "colab": {
          "base_uri": "https://localhost:8080/",
          "height": 53
        },
        "id": "wbsTtiBixxH7",
        "outputId": "ebca6f8c-2804-454b-d9a9-ecaef6cbfd85"
      },
      "execution_count": 41,
      "outputs": [
        {
          "output_type": "execute_result",
          "data": {
            "text/plain": [
              "' anyone knows how much it costs to host a web portal well it depends on how many visitors youre expecting this can be anywhere from less than number bucks a month to a couple of number you should checkout httpaddr or perhaps amazon ecnumber if youre running something bigto unsubscribe yourself from this mailing list send an email to emailaddr'"
            ],
            "application/vnd.google.colaboratory.intrinsic+json": {
              "type": "string"
            }
          },
          "metadata": {},
          "execution_count": 41
        }
      ]
    },
    {
      "cell_type": "markdown",
      "source": [
        "Removing text starting with space:-"
      ],
      "metadata": {
        "id": "5BwBJUmbyfyj"
      }
    },
    {
      "cell_type": "code",
      "source": [
        "re.findall(\"^\\s\",file_contents)"
      ],
      "metadata": {
        "colab": {
          "base_uri": "https://localhost:8080/"
        },
        "id": "u2pBebYHxyV7",
        "outputId": "3f31b210-24db-47e4-e56a-493008c5f1ee"
      },
      "execution_count": 42,
      "outputs": [
        {
          "output_type": "execute_result",
          "data": {
            "text/plain": [
              "[' ']"
            ]
          },
          "metadata": {},
          "execution_count": 42
        }
      ]
    },
    {
      "cell_type": "code",
      "source": [
        "file_contents = re.sub(\"^\\s\",\"\",file_contents)"
      ],
      "metadata": {
        "id": "WUZHPs9pxz-j"
      },
      "execution_count": 43,
      "outputs": []
    },
    {
      "cell_type": "code",
      "source": [
        "dt = 'ABC'\n",
        "\n",
        "re.findall(\"[^A]\",dt) "
      ],
      "metadata": {
        "colab": {
          "base_uri": "https://localhost:8080/"
        },
        "id": "AhdAV63nx1Ha",
        "outputId": "3ed87b93-cbc9-4208-f3fb-13bd92b0e94f"
      },
      "execution_count": 44,
      "outputs": [
        {
          "output_type": "execute_result",
          "data": {
            "text/plain": [
              "['B', 'C']"
            ]
          },
          "metadata": {},
          "execution_count": 44
        }
      ]
    },
    {
      "cell_type": "code",
      "source": [
        "re.findall(\"^A\",dt) ## the text should start with A"
      ],
      "metadata": {
        "colab": {
          "base_uri": "https://localhost:8080/"
        },
        "id": "MS1rYRNcx2Zc",
        "outputId": "cb04b9ba-cc5f-48ea-a10d-72b3ed0ee49e"
      },
      "execution_count": 45,
      "outputs": [
        {
          "output_type": "execute_result",
          "data": {
            "text/plain": [
              "['A']"
            ]
          },
          "metadata": {},
          "execution_count": 45
        }
      ]
    },
    {
      "cell_type": "markdown",
      "source": [
        "Cleaned Email Text:-"
      ],
      "metadata": {
        "id": "UuRBuWuWyVUF"
      }
    },
    {
      "cell_type": "code",
      "source": [
        "file_contents"
      ],
      "metadata": {
        "colab": {
          "base_uri": "https://localhost:8080/",
          "height": 53
        },
        "id": "3aUfnezoyCoj",
        "outputId": "956efec1-91cc-4750-ae12-fb8610ab834e"
      },
      "execution_count": 46,
      "outputs": [
        {
          "output_type": "execute_result",
          "data": {
            "text/plain": [
              "'anyone knows how much it costs to host a web portal well it depends on how many visitors youre expecting this can be anywhere from less than number bucks a month to a couple of number you should checkout httpaddr or perhaps amazon ecnumber if youre running something bigto unsubscribe yourself from this mailing list send an email to emailaddr'"
            ],
            "application/vnd.google.colaboratory.intrinsic+json": {
              "type": "string"
            }
          },
          "metadata": {},
          "execution_count": 46
        }
      ]
    }
  ]
}
